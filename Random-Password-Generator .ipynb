{
 "cells": [
  {
   "cell_type": "code",
   "execution_count": 1,
   "id": "fc2ff820",
   "metadata": {},
   "outputs": [
    {
     "name": "stdout",
     "output_type": "stream",
     "text": [
      "Welcome to the PyPassword Generator!\n",
      "How many letters would you like in your password?\n",
      "4\n",
      "How many symbols would you like?\n",
      "2\n",
      "How many numbers would you like?\n",
      "5\n",
      "['m', 'K', 'V', 'X', '(', '(', '7', '2', '5', '2', '7']\n",
      "['2', 'V', 'X', '(', 'K', '(', '7', '5', '2', 'm', '7']\n",
      "Your password is: 2VX(K(752m7\n"
     ]
    }
   ],
   "source": [
    "import random\n",
    "letters = ['a', 'b', 'c', 'd', 'e', 'f', 'g', 'h', 'i', 'j', 'k', 'l', 'm', 'n', 'o', 'p', 'q', 'r', 's', 't', 'u', 'v', 'w', 'x', 'y', 'z', 'A', 'B', 'C', 'D', 'E', 'F', 'G', 'H', 'I', 'J', 'K', 'L', 'M', 'N', 'O', 'P', 'Q', 'R', 'S', 'T', 'U', 'V', 'W', 'X', 'Y', 'Z']\n",
    "numbers = ['0', '1', '2', '3', '4', '5', '6', '7', '8', '9']\n",
    "symbols = ['!', '#', '$', '%', '&', '(', ')', '*', '+']\n",
    "\n",
    "print(\"Welcome to the PyPassword Generator!\")\n",
    "nr_letters= int(input(\"How many letters would you like in your password?\\n\")) \n",
    "nr_symbols = int(input(f\"How many symbols would you like?\\n\"))\n",
    "nr_numbers = int(input(f\"How many numbers would you like?\\n\"))\n",
    "\n",
    "#Eazy Level\n",
    "# password = \"\"\n",
    "\n",
    "# for char in range(1, nr_letters + 1):\n",
    "#   password += random.choice(letters)\n",
    "\n",
    "# for char in range(1, nr_symbols + 1):\n",
    "#   password += random.choice(symbols)\n",
    "\n",
    "# for char in range(1, nr_numbers + 1):\n",
    "#   password += random.choice(numbers)\n",
    "\n",
    "# print(password)\n",
    "\n",
    "#Hard Level\n",
    "password_list = []\n",
    "\n",
    "for char in range(1, nr_letters + 1):\n",
    "  password_list.append(random.choice(letters))\n",
    "\n",
    "for char in range(1, nr_symbols + 1):\n",
    "  password_list += random.choice(symbols)\n",
    "\n",
    "for char in range(1, nr_numbers + 1):\n",
    "  password_list += random.choice(numbers)\n",
    "\n",
    "print(password_list)\n",
    "random.shuffle(password_list)\n",
    "print(password_list)\n",
    "\n",
    "password = \"\"\n",
    "for char in password_list:\n",
    "  password += char\n",
    "\n",
    "print(f\"Your password is: {password}\")"
   ]
  }
 ],
 "metadata": {
  "kernelspec": {
   "display_name": "Python 3 (ipykernel)",
   "language": "python",
   "name": "python3"
  },
  "language_info": {
   "codemirror_mode": {
    "name": "ipython",
    "version": 3
   },
   "file_extension": ".py",
   "mimetype": "text/x-python",
   "name": "python",
   "nbconvert_exporter": "python",
   "pygments_lexer": "ipython3",
   "version": "3.9.12"
  }
 },
 "nbformat": 4,
 "nbformat_minor": 5
}
